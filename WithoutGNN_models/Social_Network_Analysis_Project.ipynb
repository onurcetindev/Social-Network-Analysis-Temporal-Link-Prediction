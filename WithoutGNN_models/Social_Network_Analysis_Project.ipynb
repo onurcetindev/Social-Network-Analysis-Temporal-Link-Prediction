{
  "nbformat": 4,
  "nbformat_minor": 0,
  "metadata": {
    "colab": {
      "provenance": [],
      "gpuType": "T4"
    },
    "kernelspec": {
      "name": "python3",
      "display_name": "Python 3"
    },
    "language_info": {
      "name": "python"
    },
    "accelerator": "GPU"
  },
  "cells": [
    {
      "cell_type": "markdown",
      "source": [
        "# 1- Google Drive Connection and Required Libraries Installation 🔗💻"
      ],
      "metadata": {
        "id": "4so4Uid5HAXR"
      }
    },
    {
      "cell_type": "code",
      "execution_count": 1,
      "metadata": {
        "id": "loM-rSttxcDD",
        "colab": {
          "base_uri": "https://localhost:8080/"
        },
        "outputId": "54a1040c-9e6b-414a-b7e9-5a93656fdbb3"
      },
      "outputs": [
        {
          "output_type": "stream",
          "name": "stdout",
          "text": [
            "Mounted at /content/drive\n"
          ]
        }
      ],
      "source": [
        "from google.colab import drive\n",
        "drive.mount('/content/drive')\n",
        "\n",
        "!pip install -q pandas scikit-learn matplotlib seaborn tqdm lightgbm xgboost"
      ]
    },
    {
      "cell_type": "markdown",
      "source": [
        "In this section, the Google Colab environment is connected to Google Drive to ensure that data and output files are stored persistently. This allows datasets and model prediction results used in the project to be securely kept on Drive. Additionally, essential libraries such as pandas, scikit-learn, matplotlib, seaborn, tqdm, lightgbm, and xgboost are installed for data processing, visualization, and running machine learning models. This step sets up the fundamental infrastructure of the project and prepares the environment for training and evaluating models moving forward.\n",
        "\n"
      ],
      "metadata": {
        "id": "43bUaeVWG_Wn"
      }
    },
    {
      "cell_type": "markdown",
      "source": [
        "# 2- Data Loading and Preprocessing 📥⚙️\n"
      ],
      "metadata": {
        "id": "Dfhr7JN0HJ_q"
      }
    },
    {
      "cell_type": "code",
      "source": [
        "import pandas as pd\n",
        "import numpy as np\n",
        "\n",
        "project_dir = \"/content/drive/MyDrive/Colab Notebooks/social-datasets/\"\n",
        "input_path = project_dir + \"input_A.csv\"\n",
        "node_feat_path = project_dir + \"node_features_sampled.csv\"\n",
        "edge_type_feat_path = project_dir + \"edge_type_features.csv\"\n",
        "\n",
        "df_input = pd.read_csv(input_path, header=None)\n",
        "node_feat_df = pd.read_csv(node_feat_path)\n",
        "edge_type_feat_df = pd.read_csv(edge_type_feat_path)\n",
        "\n",
        "df_input.columns = ['src_id', 'dst_id', 'edge_type', 'start_time', 'end_time', 'label']\n",
        "df_input['timestamp'] = ((df_input['start_time'] + df_input['end_time']) / 2).astype(int)\n",
        "\n",
        "print(\"✅ Dosyalar başarıyla yüklendi.\")\n",
        "df_input.head()\n",
        "\n"
      ],
      "metadata": {
        "colab": {
          "base_uri": "https://localhost:8080/",
          "height": 225
        },
        "id": "HL0iEdm2CKiq",
        "outputId": "d75edaac-ef55-4f72-99fd-c849c1c89adf"
      },
      "execution_count": 6,
      "outputs": [
        {
          "output_type": "stream",
          "name": "stdout",
          "text": [
            "✅ Dosyalar başarıyla yüklendi.\n"
          ]
        },
        {
          "output_type": "execute_result",
          "data": {
            "text/plain": [
              "   src_id  dst_id  edge_type  start_time    end_time  label   timestamp\n",
              "0      30   48382        151  1494663180  1494794383      1  1494728781\n",
              "1     106    8540         78  1494635755  1494835958      1  1494735856\n",
              "2     106    8540        149  1498383835  1498499059      0  1498441447\n",
              "3     106   20816         65  1494661105  1494827593      1  1494744349\n",
              "4     106   28905         19  1494634666  1494767554      1  1494701110"
            ],
            "text/html": [
              "\n",
              "  <div id=\"df-41f7361f-987a-4c48-a4b5-96f837995c70\" class=\"colab-df-container\">\n",
              "    <div>\n",
              "<style scoped>\n",
              "    .dataframe tbody tr th:only-of-type {\n",
              "        vertical-align: middle;\n",
              "    }\n",
              "\n",
              "    .dataframe tbody tr th {\n",
              "        vertical-align: top;\n",
              "    }\n",
              "\n",
              "    .dataframe thead th {\n",
              "        text-align: right;\n",
              "    }\n",
              "</style>\n",
              "<table border=\"1\" class=\"dataframe\">\n",
              "  <thead>\n",
              "    <tr style=\"text-align: right;\">\n",
              "      <th></th>\n",
              "      <th>src_id</th>\n",
              "      <th>dst_id</th>\n",
              "      <th>edge_type</th>\n",
              "      <th>start_time</th>\n",
              "      <th>end_time</th>\n",
              "      <th>label</th>\n",
              "      <th>timestamp</th>\n",
              "    </tr>\n",
              "  </thead>\n",
              "  <tbody>\n",
              "    <tr>\n",
              "      <th>0</th>\n",
              "      <td>30</td>\n",
              "      <td>48382</td>\n",
              "      <td>151</td>\n",
              "      <td>1494663180</td>\n",
              "      <td>1494794383</td>\n",
              "      <td>1</td>\n",
              "      <td>1494728781</td>\n",
              "    </tr>\n",
              "    <tr>\n",
              "      <th>1</th>\n",
              "      <td>106</td>\n",
              "      <td>8540</td>\n",
              "      <td>78</td>\n",
              "      <td>1494635755</td>\n",
              "      <td>1494835958</td>\n",
              "      <td>1</td>\n",
              "      <td>1494735856</td>\n",
              "    </tr>\n",
              "    <tr>\n",
              "      <th>2</th>\n",
              "      <td>106</td>\n",
              "      <td>8540</td>\n",
              "      <td>149</td>\n",
              "      <td>1498383835</td>\n",
              "      <td>1498499059</td>\n",
              "      <td>0</td>\n",
              "      <td>1498441447</td>\n",
              "    </tr>\n",
              "    <tr>\n",
              "      <th>3</th>\n",
              "      <td>106</td>\n",
              "      <td>20816</td>\n",
              "      <td>65</td>\n",
              "      <td>1494661105</td>\n",
              "      <td>1494827593</td>\n",
              "      <td>1</td>\n",
              "      <td>1494744349</td>\n",
              "    </tr>\n",
              "    <tr>\n",
              "      <th>4</th>\n",
              "      <td>106</td>\n",
              "      <td>28905</td>\n",
              "      <td>19</td>\n",
              "      <td>1494634666</td>\n",
              "      <td>1494767554</td>\n",
              "      <td>1</td>\n",
              "      <td>1494701110</td>\n",
              "    </tr>\n",
              "  </tbody>\n",
              "</table>\n",
              "</div>\n",
              "    <div class=\"colab-df-buttons\">\n",
              "\n",
              "  <div class=\"colab-df-container\">\n",
              "    <button class=\"colab-df-convert\" onclick=\"convertToInteractive('df-41f7361f-987a-4c48-a4b5-96f837995c70')\"\n",
              "            title=\"Convert this dataframe to an interactive table.\"\n",
              "            style=\"display:none;\">\n",
              "\n",
              "  <svg xmlns=\"http://www.w3.org/2000/svg\" height=\"24px\" viewBox=\"0 -960 960 960\">\n",
              "    <path d=\"M120-120v-720h720v720H120Zm60-500h600v-160H180v160Zm220 220h160v-160H400v160Zm0 220h160v-160H400v160ZM180-400h160v-160H180v160Zm440 0h160v-160H620v160ZM180-180h160v-160H180v160Zm440 0h160v-160H620v160Z\"/>\n",
              "  </svg>\n",
              "    </button>\n",
              "\n",
              "  <style>\n",
              "    .colab-df-container {\n",
              "      display:flex;\n",
              "      gap: 12px;\n",
              "    }\n",
              "\n",
              "    .colab-df-convert {\n",
              "      background-color: #E8F0FE;\n",
              "      border: none;\n",
              "      border-radius: 50%;\n",
              "      cursor: pointer;\n",
              "      display: none;\n",
              "      fill: #1967D2;\n",
              "      height: 32px;\n",
              "      padding: 0 0 0 0;\n",
              "      width: 32px;\n",
              "    }\n",
              "\n",
              "    .colab-df-convert:hover {\n",
              "      background-color: #E2EBFA;\n",
              "      box-shadow: 0px 1px 2px rgba(60, 64, 67, 0.3), 0px 1px 3px 1px rgba(60, 64, 67, 0.15);\n",
              "      fill: #174EA6;\n",
              "    }\n",
              "\n",
              "    .colab-df-buttons div {\n",
              "      margin-bottom: 4px;\n",
              "    }\n",
              "\n",
              "    [theme=dark] .colab-df-convert {\n",
              "      background-color: #3B4455;\n",
              "      fill: #D2E3FC;\n",
              "    }\n",
              "\n",
              "    [theme=dark] .colab-df-convert:hover {\n",
              "      background-color: #434B5C;\n",
              "      box-shadow: 0px 1px 3px 1px rgba(0, 0, 0, 0.15);\n",
              "      filter: drop-shadow(0px 1px 2px rgba(0, 0, 0, 0.3));\n",
              "      fill: #FFFFFF;\n",
              "    }\n",
              "  </style>\n",
              "\n",
              "    <script>\n",
              "      const buttonEl =\n",
              "        document.querySelector('#df-41f7361f-987a-4c48-a4b5-96f837995c70 button.colab-df-convert');\n",
              "      buttonEl.style.display =\n",
              "        google.colab.kernel.accessAllowed ? 'block' : 'none';\n",
              "\n",
              "      async function convertToInteractive(key) {\n",
              "        const element = document.querySelector('#df-41f7361f-987a-4c48-a4b5-96f837995c70');\n",
              "        const dataTable =\n",
              "          await google.colab.kernel.invokeFunction('convertToInteractive',\n",
              "                                                    [key], {});\n",
              "        if (!dataTable) return;\n",
              "\n",
              "        const docLinkHtml = 'Like what you see? Visit the ' +\n",
              "          '<a target=\"_blank\" href=https://colab.research.google.com/notebooks/data_table.ipynb>data table notebook</a>'\n",
              "          + ' to learn more about interactive tables.';\n",
              "        element.innerHTML = '';\n",
              "        dataTable['output_type'] = 'display_data';\n",
              "        await google.colab.output.renderOutput(dataTable, element);\n",
              "        const docLink = document.createElement('div');\n",
              "        docLink.innerHTML = docLinkHtml;\n",
              "        element.appendChild(docLink);\n",
              "      }\n",
              "    </script>\n",
              "  </div>\n",
              "\n",
              "\n",
              "    <div id=\"df-3f163af2-4e63-4cdd-9edf-9ad9eee25dcb\">\n",
              "      <button class=\"colab-df-quickchart\" onclick=\"quickchart('df-3f163af2-4e63-4cdd-9edf-9ad9eee25dcb')\"\n",
              "                title=\"Suggest charts\"\n",
              "                style=\"display:none;\">\n",
              "\n",
              "<svg xmlns=\"http://www.w3.org/2000/svg\" height=\"24px\"viewBox=\"0 0 24 24\"\n",
              "     width=\"24px\">\n",
              "    <g>\n",
              "        <path d=\"M19 3H5c-1.1 0-2 .9-2 2v14c0 1.1.9 2 2 2h14c1.1 0 2-.9 2-2V5c0-1.1-.9-2-2-2zM9 17H7v-7h2v7zm4 0h-2V7h2v10zm4 0h-2v-4h2v4z\"/>\n",
              "    </g>\n",
              "</svg>\n",
              "      </button>\n",
              "\n",
              "<style>\n",
              "  .colab-df-quickchart {\n",
              "      --bg-color: #E8F0FE;\n",
              "      --fill-color: #1967D2;\n",
              "      --hover-bg-color: #E2EBFA;\n",
              "      --hover-fill-color: #174EA6;\n",
              "      --disabled-fill-color: #AAA;\n",
              "      --disabled-bg-color: #DDD;\n",
              "  }\n",
              "\n",
              "  [theme=dark] .colab-df-quickchart {\n",
              "      --bg-color: #3B4455;\n",
              "      --fill-color: #D2E3FC;\n",
              "      --hover-bg-color: #434B5C;\n",
              "      --hover-fill-color: #FFFFFF;\n",
              "      --disabled-bg-color: #3B4455;\n",
              "      --disabled-fill-color: #666;\n",
              "  }\n",
              "\n",
              "  .colab-df-quickchart {\n",
              "    background-color: var(--bg-color);\n",
              "    border: none;\n",
              "    border-radius: 50%;\n",
              "    cursor: pointer;\n",
              "    display: none;\n",
              "    fill: var(--fill-color);\n",
              "    height: 32px;\n",
              "    padding: 0;\n",
              "    width: 32px;\n",
              "  }\n",
              "\n",
              "  .colab-df-quickchart:hover {\n",
              "    background-color: var(--hover-bg-color);\n",
              "    box-shadow: 0 1px 2px rgba(60, 64, 67, 0.3), 0 1px 3px 1px rgba(60, 64, 67, 0.15);\n",
              "    fill: var(--button-hover-fill-color);\n",
              "  }\n",
              "\n",
              "  .colab-df-quickchart-complete:disabled,\n",
              "  .colab-df-quickchart-complete:disabled:hover {\n",
              "    background-color: var(--disabled-bg-color);\n",
              "    fill: var(--disabled-fill-color);\n",
              "    box-shadow: none;\n",
              "  }\n",
              "\n",
              "  .colab-df-spinner {\n",
              "    border: 2px solid var(--fill-color);\n",
              "    border-color: transparent;\n",
              "    border-bottom-color: var(--fill-color);\n",
              "    animation:\n",
              "      spin 1s steps(1) infinite;\n",
              "  }\n",
              "\n",
              "  @keyframes spin {\n",
              "    0% {\n",
              "      border-color: transparent;\n",
              "      border-bottom-color: var(--fill-color);\n",
              "      border-left-color: var(--fill-color);\n",
              "    }\n",
              "    20% {\n",
              "      border-color: transparent;\n",
              "      border-left-color: var(--fill-color);\n",
              "      border-top-color: var(--fill-color);\n",
              "    }\n",
              "    30% {\n",
              "      border-color: transparent;\n",
              "      border-left-color: var(--fill-color);\n",
              "      border-top-color: var(--fill-color);\n",
              "      border-right-color: var(--fill-color);\n",
              "    }\n",
              "    40% {\n",
              "      border-color: transparent;\n",
              "      border-right-color: var(--fill-color);\n",
              "      border-top-color: var(--fill-color);\n",
              "    }\n",
              "    60% {\n",
              "      border-color: transparent;\n",
              "      border-right-color: var(--fill-color);\n",
              "    }\n",
              "    80% {\n",
              "      border-color: transparent;\n",
              "      border-right-color: var(--fill-color);\n",
              "      border-bottom-color: var(--fill-color);\n",
              "    }\n",
              "    90% {\n",
              "      border-color: transparent;\n",
              "      border-bottom-color: var(--fill-color);\n",
              "    }\n",
              "  }\n",
              "</style>\n",
              "\n",
              "      <script>\n",
              "        async function quickchart(key) {\n",
              "          const quickchartButtonEl =\n",
              "            document.querySelector('#' + key + ' button');\n",
              "          quickchartButtonEl.disabled = true;  // To prevent multiple clicks.\n",
              "          quickchartButtonEl.classList.add('colab-df-spinner');\n",
              "          try {\n",
              "            const charts = await google.colab.kernel.invokeFunction(\n",
              "                'suggestCharts', [key], {});\n",
              "          } catch (error) {\n",
              "            console.error('Error during call to suggestCharts:', error);\n",
              "          }\n",
              "          quickchartButtonEl.classList.remove('colab-df-spinner');\n",
              "          quickchartButtonEl.classList.add('colab-df-quickchart-complete');\n",
              "        }\n",
              "        (() => {\n",
              "          let quickchartButtonEl =\n",
              "            document.querySelector('#df-3f163af2-4e63-4cdd-9edf-9ad9eee25dcb button');\n",
              "          quickchartButtonEl.style.display =\n",
              "            google.colab.kernel.accessAllowed ? 'block' : 'none';\n",
              "        })();\n",
              "      </script>\n",
              "    </div>\n",
              "\n",
              "    </div>\n",
              "  </div>\n"
            ],
            "application/vnd.google.colaboratory.intrinsic+json": {
              "type": "dataframe",
              "variable_name": "df_input",
              "summary": "{\n  \"name\": \"df_input\",\n  \"rows\": 8197,\n  \"fields\": [\n    {\n      \"column\": \"src_id\",\n      \"properties\": {\n        \"dtype\": \"number\",\n        \"std\": 19438,\n        \"min\": 30,\n        \"max\": 69947,\n        \"num_unique_values\": 1310,\n        \"samples\": [\n          44868,\n          60911,\n          50894\n        ],\n        \"semantic_type\": \"\",\n        \"description\": \"\"\n      }\n    },\n    {\n      \"column\": \"dst_id\",\n      \"properties\": {\n        \"dtype\": \"number\",\n        \"std\": 17973,\n        \"min\": 19,\n        \"max\": 69947,\n        \"num_unique_values\": 1422,\n        \"samples\": [\n          7230,\n          15743,\n          41863\n        ],\n        \"semantic_type\": \"\",\n        \"description\": \"\"\n      }\n    },\n    {\n      \"column\": \"edge_type\",\n      \"properties\": {\n        \"dtype\": \"number\",\n        \"std\": 76,\n        \"min\": 2,\n        \"max\": 247,\n        \"num_unique_values\": 152,\n        \"samples\": [\n          48,\n          55,\n          244\n        ],\n        \"semantic_type\": \"\",\n        \"description\": \"\"\n      }\n    },\n    {\n      \"column\": \"start_time\",\n      \"properties\": {\n        \"dtype\": \"number\",\n        \"std\": 1293860,\n        \"min\": 1494579608,\n        \"max\": 1498946320,\n        \"num_unique_values\": 8050,\n        \"samples\": [\n          1498825856,\n          1495697856,\n          1494606800\n        ],\n        \"semantic_type\": \"\",\n        \"description\": \"\"\n      }\n    },\n    {\n      \"column\": \"end_time\",\n      \"properties\": {\n        \"dtype\": \"number\",\n        \"std\": 1294181,\n        \"min\": 1494752409,\n        \"max\": 1499108872,\n        \"num_unique_values\": 8059,\n        \"samples\": [\n          1496669235,\n          1494822812,\n          1494791151\n        ],\n        \"semantic_type\": \"\",\n        \"description\": \"\"\n      }\n    },\n    {\n      \"column\": \"label\",\n      \"properties\": {\n        \"dtype\": \"number\",\n        \"std\": 0,\n        \"min\": 0,\n        \"max\": 1,\n        \"num_unique_values\": 2,\n        \"samples\": [\n          0,\n          1\n        ],\n        \"semantic_type\": \"\",\n        \"description\": \"\"\n      }\n    },\n    {\n      \"column\": \"timestamp\",\n      \"properties\": {\n        \"dtype\": \"number\",\n        \"std\": 1293899,\n        \"min\": 1494667205,\n        \"max\": 1499002882,\n        \"num_unique_values\": 8021,\n        \"samples\": [\n          1497384115,\n          1494699750\n        ],\n        \"semantic_type\": \"\",\n        \"description\": \"\"\n      }\n    }\n  ]\n}"
            }
          },
          "metadata": {},
          "execution_count": 6
        }
      ]
    },
    {
      "cell_type": "markdown",
      "source": [
        "In this section, the necessary test data (input_A.csv), node features (node_features_sampled.csv), and edge type features (edge_type_features.csv) were loaded from Google Drive as pandas DataFrames. Meaningful column names were assigned to the loaded test dataset, and a new timestamp column was created by averaging the start_time and end_time columns. This timestamp provides a clearer temporal indicator to help the model predict edges that will occur within the given time interval. The user is notified upon successful completion of the loading process. 📂"
      ],
      "metadata": {
        "id": "Vqhe8mKvHNf3"
      }
    },
    {
      "cell_type": "markdown",
      "source": [
        "# 3- Feature Engineering ⚙️✨\n",
        "\n"
      ],
      "metadata": {
        "id": "U0_pxllQHU2d"
      }
    },
    {
      "cell_type": "code",
      "source": [
        "from sklearn.preprocessing import OneHotEncoder\n",
        "\n",
        "def make_features(df, node_feats, edge_feats):\n",
        "    df_feat = df.copy()\n",
        "\n",
        "    # -1 değerlerini NaN yap\n",
        "    node_feats = node_feats.replace(-1, np.nan)\n",
        "    edge_feats = edge_feats.replace(-1, np.nan)\n",
        "\n",
        "    # node özelliklerini mean ile birleştir (örnek)\n",
        "    node_feats_mean = node_feats.set_index(node_feats.columns[0]).mean(axis=1)\n",
        "    df_feat['src_feat'] = df['src_id'].map(node_feats_mean)\n",
        "    df_feat['dst_feat'] = df['dst_id'].map(node_feats_mean)\n",
        "\n",
        "    # edge_type özelliklerinden mean\n",
        "    edge_feats_mean = edge_feats.set_index(edge_feats.columns[0]).mean(axis=1)\n",
        "    df_feat['edge_feat'] = df['edge_type'].map(edge_feats_mean)\n",
        "\n",
        "    # Zaman bilgisi\n",
        "    df_feat['hour'] = df['timestamp'] % (24 * 3600) // 3600\n",
        "\n",
        "    return df_feat[['src_feat', 'dst_feat', 'edge_feat', 'hour']]\n"
      ],
      "metadata": {
        "id": "Od1F26FjCNkN"
      },
      "execution_count": 7,
      "outputs": []
    },
    {
      "cell_type": "markdown",
      "source": [
        "The make_features function generates meaningful features for the model by using the input DataFrame (df), node features (node_feats), and edge type features (edge_feats). First, missing values and those marked with -1 are replaced with NaN. For both node and edge type features, the values are averaged row-wise to create a single numerical representation. These averaged values are then assigned to the source (src_id), destination (dst_id) nodes, and the edge type. Additionally, the timestamp information is converted from Unix Epoch format to an hourly basis, adding a new hour feature. As a result, the function returns four main feature columns representing the source node, destination node, edge type, and time. ⚙️"
      ],
      "metadata": {
        "id": "PyBq6iCqHXki"
      }
    },
    {
      "cell_type": "code",
      "source": [
        "!pip install catboost --quiet\n"
      ],
      "metadata": {
        "colab": {
          "base_uri": "https://localhost:8080/"
        },
        "id": "gkuUQwBPDv-E",
        "outputId": "f8d52874-ccca-47e9-822e-ad84f94b6c2a"
      },
      "execution_count": 10,
      "outputs": [
        {
          "output_type": "stream",
          "name": "stdout",
          "text": [
            "\u001b[2K   \u001b[90m━━━━━━━━━━━━━━━━━━━━━━━━━━━━━━━━━━━━━━━━\u001b[0m \u001b[32m99.2/99.2 MB\u001b[0m \u001b[31m8.7 MB/s\u001b[0m eta \u001b[36m0:00:00\u001b[0m\n",
            "\u001b[?25h"
          ]
        }
      ]
    },
    {
      "cell_type": "markdown",
      "source": [
        "# 4- Model Training and Comparison ⚙️📊"
      ],
      "metadata": {
        "id": "zFAn3_xqHgTG"
      }
    },
    {
      "cell_type": "code",
      "source": [
        "from sklearn.model_selection import train_test_split\n",
        "from lightgbm import LGBMClassifier\n",
        "from xgboost import XGBClassifier\n",
        "from catboost import CatBoostClassifier\n",
        "\n",
        "X = make_features(df_input, node_feat_df, edge_type_feat_df)\n",
        "y = df_input['label'].values\n",
        "\n",
        "X_train, X_val, y_train, y_val = train_test_split(X, y, test_size=0.2, random_state=42)\n",
        "\n",
        "models = {\n",
        "    \"LightGBM\": LGBMClassifier(),\n",
        "    \"XGBoost\": XGBClassifier(use_label_encoder=False, eval_metric='logloss'),\n",
        "    \"CatBoost\": CatBoostClassifier(verbose=0)\n",
        "}\n",
        "\n",
        "trained_models = {}\n",
        "for name, model in models.items():\n",
        "    print(f\"📚 Eğitiliyor: {name}\")\n",
        "    model.fit(X_train, y_train)\n",
        "    trained_models[name] = model\n"
      ],
      "metadata": {
        "colab": {
          "base_uri": "https://localhost:8080/"
        },
        "id": "PWzrmSBtCWm-",
        "outputId": "94401b90-304c-40c7-8ffb-73bb463054cd"
      },
      "execution_count": 11,
      "outputs": [
        {
          "output_type": "stream",
          "name": "stdout",
          "text": [
            "📚 Eğitiliyor: LightGBM\n",
            "[LightGBM] [Info] Number of positive: 2797, number of negative: 3760\n",
            "[LightGBM] [Info] Auto-choosing col-wise multi-threading, the overhead of testing was 0.000392 seconds.\n",
            "You can set `force_col_wise=true` to remove the overhead.\n",
            "[LightGBM] [Info] Total Bins 525\n",
            "[LightGBM] [Info] Number of data points in the train set: 6557, number of used features: 4\n",
            "[LightGBM] [Info] [binary:BoostFromScore]: pavg=0.426567 -> initscore=-0.295872\n",
            "[LightGBM] [Info] Start training from score -0.295872\n",
            "📚 Eğitiliyor: XGBoost\n"
          ]
        },
        {
          "output_type": "stream",
          "name": "stderr",
          "text": [
            "/usr/local/lib/python3.11/dist-packages/xgboost/core.py:158: UserWarning: [23:09:24] WARNING: /workspace/src/learner.cc:740: \n",
            "Parameters: { \"use_label_encoder\" } are not used.\n",
            "\n",
            "  warnings.warn(smsg, UserWarning)\n"
          ]
        },
        {
          "output_type": "stream",
          "name": "stdout",
          "text": [
            "📚 Eğitiliyor: CatBoost\n"
          ]
        }
      ]
    },
    {
      "cell_type": "markdown",
      "source": [
        "In this section, three different classification models are trained using the previously engineered features: LightGBM, XGBoost, and CatBoost. The data is split into 80% training and 20% validation sets. Each model is fitted sequentially on the training data and stored in the trained_models dictionary. This approach aims to compare the performance of different gradient boosting algorithms and identify the best-performing model. 🚀📈\n",
        "\n"
      ],
      "metadata": {
        "id": "T6STeTbzHkn2"
      }
    },
    {
      "cell_type": "markdown",
      "source": [
        "# 5- Model Evaluation 📈✅\n"
      ],
      "metadata": {
        "id": "Bs17DLrOHpYy"
      }
    },
    {
      "cell_type": "code",
      "source": [
        "from sklearn.metrics import roc_auc_score, accuracy_score, f1_score, precision_score, recall_score\n",
        "\n",
        "def evaluate_model(name, model, X_val, y_val):\n",
        "    probs = model.predict_proba(X_val)[:, 1]\n",
        "\n",
        "    best_auc = 0\n",
        "    best_threshold = 0.5\n",
        "    for t in np.arange(0.1, 0.9, 0.01):\n",
        "        preds = (probs >= t).astype(int)\n",
        "        auc = roc_auc_score(y_val, probs)\n",
        "        acc = accuracy_score(y_val, preds)\n",
        "        if auc > best_auc:\n",
        "            best_auc = auc\n",
        "            best_threshold = t\n",
        "\n",
        "    final_preds = (probs >= best_threshold).astype(int)\n",
        "    print(f\"\\n📊 Model: {name}\")\n",
        "    print(f\"🔸 En iyi threshold: {best_threshold:.2f}\")\n",
        "    print(\"🔹 AUC:\", roc_auc_score(y_val, probs))\n",
        "    print(\"🔹 Accuracy:\", accuracy_score(y_val, final_preds))\n",
        "    print(\"🔹 F1:\", f1_score(y_val, final_preds))\n",
        "    print(\"🔹 Precision:\", precision_score(y_val, final_preds))\n",
        "    print(\"🔹 Recall:\", recall_score(y_val, final_preds))\n",
        "    return probs, best_threshold\n",
        "\n",
        "model_scores = {}\n",
        "for name, model in trained_models.items():\n",
        "    probs, best_t = evaluate_model(name, model, X_val, y_val)\n",
        "    model_scores[name] = (probs, best_t)\n"
      ],
      "metadata": {
        "colab": {
          "base_uri": "https://localhost:8080/"
        },
        "id": "JoKJGCWlD7bb",
        "outputId": "10bc4d58-4d0b-420a-89df-ce8f788e8b2a"
      },
      "execution_count": 12,
      "outputs": [
        {
          "output_type": "stream",
          "name": "stdout",
          "text": [
            "\n",
            "📊 Model: LightGBM\n",
            "🔸 En iyi threshold: 0.10\n",
            "🔹 AUC: 0.6143983908160537\n",
            "🔹 Accuracy: 0.4579268292682927\n",
            "🔹 F1: 0.6163141993957704\n",
            "🔹 Precision: 0.44680851063829785\n",
            "🔹 Recall: 0.9930458970792768\n",
            "\n",
            "📊 Model: XGBoost\n",
            "🔸 En iyi threshold: 0.10\n",
            "🔹 AUC: 0.5905898377980033\n",
            "🔹 Accuracy: 0.47560975609756095\n",
            "🔹 F1: 0.6187943262411347\n",
            "🔹 Precision: 0.4541314248536109\n",
            "🔹 Recall: 0.9707927677329624\n",
            "\n",
            "📊 Model: CatBoost\n",
            "🔸 En iyi threshold: 0.10\n",
            "🔹 AUC: 0.6164015650884402\n",
            "🔹 Accuracy: 0.44634146341463415\n",
            "🔹 F1: 0.611965811965812\n",
            "🔹 Precision: 0.4417026526835287\n",
            "🔹 Recall: 0.9958275382475661\n"
          ]
        }
      ]
    },
    {
      "cell_type": "markdown",
      "source": [
        "In this section, the trained models are evaluated on the validation dataset using various performance metrics. Using the model’s predict_proba outputs, classification results are calculated at different threshold values, and the threshold that yields the best AUC score is selected. With this optimal threshold, the model’s Accuracy, F1, Precision, and Recall scores are reported. This way, the models' performances are compared not only with the default 0.5 threshold but also with the best possible threshold for better evaluation. 📊✨"
      ],
      "metadata": {
        "id": "OjzrqfA5HtFR"
      }
    },
    {
      "cell_type": "markdown",
      "source": [
        "# 6- Visualization of Prediction Probabilities 📈🎨"
      ],
      "metadata": {
        "id": "FkfAW8DXHwjH"
      }
    },
    {
      "cell_type": "code",
      "source": [
        "import matplotlib.pyplot as plt\n",
        "import seaborn as sns\n",
        "\n",
        "plt.figure(figsize=(12, 6))\n",
        "for name, (probs, best_t) in model_scores.items():\n",
        "    sns.kdeplot(probs, label=f\"{name} (th={best_t:.2f})\", fill=True)\n",
        "    plt.axvline(x=best_t, linestyle='--')\n",
        "\n",
        "plt.title(\"Model Tahmin Olasılıkları ve Threshold Değerleri\")\n",
        "plt.xlabel(\"Tahmin Olasılığı\")\n",
        "plt.ylabel(\"Yoğunluk\")\n",
        "plt.legend()\n",
        "plt.show()\n"
      ],
      "metadata": {
        "colab": {
          "base_uri": "https://localhost:8080/",
          "height": 564
        },
        "id": "fCH4Ur60EAZX",
        "outputId": "3d2c693f-815b-49d0-899f-3a6ce09732d4"
      },
      "execution_count": 13,
      "outputs": [
        {
          "output_type": "display_data",
          "data": {
            "text/plain": [
              "<Figure size 1200x600 with 1 Axes>"
            ],
            "image/png": "[encoded data removed]"
          },
          "metadata": {}
        }
      ]
    },
    {
      "cell_type": "markdown",
      "source": [
        "This section visualizes the distribution of prediction probabilities on the validation set using Kernel Density Estimation (KDE) plots. The overall distribution of predicted probabilities for each model is shown with colorful filled curves. Additionally, the best threshold values previously determined for each model are marked on the plot with dashed vertical lines. This helps to visually understand how the prediction probabilities are spread and where the chosen thresholds lie within these distributions. 📊✨\n",
        "\n"
      ],
      "metadata": {
        "id": "hRKWSfBWH0UF"
      }
    },
    {
      "cell_type": "markdown",
      "source": [
        "# 7- Comparison of Model Performances 📈🤖"
      ],
      "metadata": {
        "id": "H1ZWMH6TH45X"
      }
    },
    {
      "cell_type": "code",
      "source": [
        "import matplotlib.pyplot as plt\n",
        "\n",
        "# Metrikleri model isimlerine göre ayarlayalım\n",
        "models = ['LightGBM', 'XGBoost', 'CatBoost']\n",
        "auc_scores = [0.6144, 0.5906, 0.6164]\n",
        "accuracy_scores = [0.4579, 0.4756, 0.4463]\n",
        "f1_scores = [0.6163, 0.6188, 0.6120]\n",
        "\n",
        "plt.figure(figsize=(10, 6))\n",
        "bar_width = 0.25\n",
        "x = range(len(models))\n",
        "\n",
        "plt.bar(x, auc_scores, width=bar_width, label='AUC')\n",
        "plt.bar([i + bar_width for i in x], accuracy_scores, width=bar_width, label='Accuracy')\n",
        "plt.bar([i + 2*bar_width for i in x], f1_scores, width=bar_width, label='F1 Score')\n",
        "\n",
        "plt.xlabel('Model')\n",
        "plt.ylabel('Skor')\n",
        "plt.title('Modellerin Karşılaştırılması')\n",
        "plt.xticks([i + bar_width for i in x], models)\n",
        "plt.legend()\n",
        "plt.grid(axis='y')\n",
        "plt.tight_layout()\n",
        "plt.show()\n"
      ],
      "metadata": {
        "colab": {
          "base_uri": "https://localhost:8080/",
          "height": 607
        },
        "id": "FNBFvHIaFblN",
        "outputId": "ffa9e1fc-04fc-4f33-886d-7e71f6a602c5"
      },
      "execution_count": 14,
      "outputs": [
        {
          "output_type": "display_data",
          "data": {
            "text/plain": [
              "<Figure size 1000x600 with 1 Axes>"
            ],
            "image/png": "[encoded data removed]"
          },
          "metadata": {}
        }
      ]
    },
    {
      "cell_type": "markdown",
      "source": [
        "This visualization compares the performances of three different models (LightGBM, XGBoost, CatBoost) on the validation dataset side by side. Using a bar chart, each model’s AUC, Accuracy, and F1 scores are displayed together. This allows for an easy comparison of the overall success of the models across various performance metrics. The chart provides a quick visual assessment of each model’s strengths and weaknesses. 📊✨"
      ],
      "metadata": {
        "id": "ho0XzyESH9Z1"
      }
    },
    {
      "cell_type": "markdown",
      "source": [
        "# 8- Output Files\n"
      ],
      "metadata": {
        "id": "g2RMzge8J6-L"
      }
    },
    {
      "cell_type": "code",
      "source": [
        "# Test verisini oku\n",
        "df_test = pd.read_csv(input_path, header=None)\n",
        "# Kolon isimlerini ata - dosyanın 6 sütunu olduğunu varsayarak 'label' sütununu da ekliyoruz\n",
        "df_test.columns = ['src_id', 'dst_id', 'edge_type', 'start_time', 'end_time', 'label'] # 'label' sütununu ekleyin\n",
        "\n",
        "df_test['timestamp'] = ((df_test['start_time'] + df_test['end_time']) / 2).astype(int)\n",
        "\n",
        "# Test için özellikleri çıkar\n",
        "# make_features fonksiyonu zaten sadece gerekli sütunları kullanacaktır\n",
        "X_test = make_features(df_test, node_feat_df, edge_type_feat_df)\n",
        "\n",
        "# Model tahmini yap ve dosyaya yaz\n",
        "for name, model in trained_models.items():\n",
        "    probs_test = model.predict_proba(X_test)[:, 1]  # Pozitif sınıf olasılığı\n",
        "\n",
        "    # Tahminleri CSV'ye yaz (örnek: output_A_LightGBM.csv)\n",
        "    output_file = f\"/content/drive/MyDrive/Colab Notebooks/social-datasets/output_A_{name}.csv\"\n",
        "    pd.DataFrame(probs_test).to_csv(output_file, index=False, header=False)\n",
        "\n",
        "    print(f\"✅ {name} modeli için tahminler {output_file} dosyasına kaydedildi.\")"
      ],
      "metadata": {
        "colab": {
          "base_uri": "https://localhost:8080/"
        },
        "id": "8P4ZI1vlIpoH",
        "outputId": "f776828c-8405-4022-8297-61e649723983"
      },
      "execution_count": 19,
      "outputs": [
        {
          "output_type": "stream",
          "name": "stdout",
          "text": [
            "✅ LightGBM modeli için tahminler /content/drive/MyDrive/Colab Notebooks/social-datasets/output_A_LightGBM.csv dosyasına kaydedildi.\n",
            "✅ XGBoost modeli için tahminler /content/drive/MyDrive/Colab Notebooks/social-datasets/output_A_XGBoost.csv dosyasına kaydedildi.\n",
            "✅ CatBoost modeli için tahminler /content/drive/MyDrive/Colab Notebooks/social-datasets/output_A_CatBoost.csv dosyasına kaydedildi.\n"
          ]
        }
      ]
    },
    {
      "cell_type": "markdown",
      "source": [
        "This code snippet is written to read the test data, make model predictions, and save the results into separate CSV files for each model. First, the test data file specified by the input_path variable is read using pandas, with header=None since the file has no header row. Assuming the file contains six columns, they are named sequentially as src_id, dst_id, edge_type, start_time, end_time, and label. Then, a new timestamp column is created representing the midpoint of the time interval for each test record.\n",
        "\n",
        "Using the previously defined make_features function, relevant features required by the models are extracted from the test data. These features are generated by incorporating node and edge type attributes to format the data suitably for prediction.\n",
        "\n",
        "Next, the code loops over the trained_models dictionary containing the trained models, and for each model, calculates the positive class probabilities on the test data using the predict_proba method. These predicted probabilities are saved as CSV files without including src_id or dst_id columns — only the probability values are written. The output files are named according to each model, allowing the prediction results of each model on the test set to be stored separately."
      ],
      "metadata": {
        "id": "uhSC6mSjJ5GQ"
      }
    }
  ]
}